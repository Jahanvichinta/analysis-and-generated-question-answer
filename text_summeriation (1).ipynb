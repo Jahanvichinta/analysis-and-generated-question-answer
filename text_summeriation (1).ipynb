{
  "nbformat": 4,
  "nbformat_minor": 0,
  "metadata": {
    "colab": {
      "provenance": []
    },
    "kernelspec": {
      "name": "python3",
      "display_name": "Python 3"
    },
    "language_info": {
      "name": "python"
    }
  },
  "cells": [
    {
      "cell_type": "code",
      "source": [
        "!pip install pdfplumber\n",
        "import pdfplumber\n",
        "\n",
        "pdf_path = \"/content/pratice.pdf\"\n",
        "\n",
        "output_text_file = \"extracted_text.txt\"\n",
        "\n",
        "with pdfplumber.open(pdf_path) as pdf:\n",
        "    extracted_text = \"\"\n",
        "    for page in pdf.pages:\n",
        "        extracted_text += page.extract_text()\n",
        "\n",
        "with open(output_text_file, \"w\") as text_file:\n",
        "    text_file.write(extracted_text)\n",
        "\n",
        "print(f\"Text extracted and saved to {output_text_file}\")"
      ],
      "metadata": {
        "colab": {
          "base_uri": "https://localhost:8080/"
        },
        "id": "uuk8NgCFNr7L",
        "outputId": "63906c20-ed11-4f7d-8344-d635b3280115"
      },
      "execution_count": 1,
      "outputs": [
        {
          "output_type": "stream",
          "name": "stdout",
          "text": [
            "Requirement already satisfied: pdfplumber in /usr/local/lib/python3.11/dist-packages (0.11.7)\n",
            "Requirement already satisfied: pdfminer.six==20250506 in /usr/local/lib/python3.11/dist-packages (from pdfplumber) (20250506)\n",
            "Requirement already satisfied: Pillow>=9.1 in /usr/local/lib/python3.11/dist-packages (from pdfplumber) (11.2.1)\n",
            "Requirement already satisfied: pypdfium2>=4.18.0 in /usr/local/lib/python3.11/dist-packages (from pdfplumber) (4.30.1)\n",
            "Requirement already satisfied: charset-normalizer>=2.0.0 in /usr/local/lib/python3.11/dist-packages (from pdfminer.six==20250506->pdfplumber) (3.4.2)\n",
            "Requirement already satisfied: cryptography>=36.0.0 in /usr/local/lib/python3.11/dist-packages (from pdfminer.six==20250506->pdfplumber) (43.0.3)\n",
            "Requirement already satisfied: cffi>=1.12 in /usr/local/lib/python3.11/dist-packages (from cryptography>=36.0.0->pdfminer.six==20250506->pdfplumber) (1.17.1)\n",
            "Requirement already satisfied: pycparser in /usr/local/lib/python3.11/dist-packages (from cffi>=1.12->cryptography>=36.0.0->pdfminer.six==20250506->pdfplumber) (2.22)\n"
          ]
        },
        {
          "output_type": "stream",
          "name": "stderr",
          "text": [
            "WARNING:pdfminer.pdffont:Could get FontBBox from font descriptor because None cannot be parsed as 4 floats\n",
            "WARNING:pdfminer.pdffont:Could get FontBBox from font descriptor because None cannot be parsed as 4 floats\n",
            "WARNING:pdfminer.pdffont:Could get FontBBox from font descriptor because None cannot be parsed as 4 floats\n",
            "WARNING:pdfminer.pdffont:Could get FontBBox from font descriptor because None cannot be parsed as 4 floats\n"
          ]
        },
        {
          "output_type": "stream",
          "name": "stdout",
          "text": [
            "Text extracted and saved to extracted_text.txt\n"
          ]
        }
      ]
    },
    {
      "cell_type": "code",
      "source": [
        "# reading pdf content\n",
        "with open(\"/content/extracted_text.txt\", \"r\") as file:\n",
        "    document_text = file.read()\n",
        "\n",
        "# preview the document content\n",
        "print(document_text[:500])  # preview the first 500 characters"
      ],
      "metadata": {
        "colab": {
          "base_uri": "https://localhost:8080/"
        },
        "id": "KATUB6sZNsg6",
        "outputId": "fd66979f-4682-449b-de15-b311a75ee987"
      },
      "execution_count": 2,
      "outputs": [
        {
          "output_type": "stream",
          "name": "stdout",
          "text": [
            "GOOGLE TERMS OF SERVICE\n",
            "Effective May 22, 2024 | Archived versions\n",
            "What’s covered in these terms\n",
            "We know it’s tempting to skip these Terms of\n",
            "Service, but it’s important to establish what you\n",
            "can expect from us as you use Google services,\n",
            "and what we expect from you.\n",
            "These Terms of Service re\u0000ect the way Google’s business works, the laws that apply to\n",
            "our company, and certain things we’ve always believed to be true. As a result, these Terms\n",
            "of Service help de\u0000ne Google’s relationship with you as\n"
          ]
        }
      ]
    },
    {
      "cell_type": "code",
      "source": [
        "from transformers import pipeline\n",
        "\n",
        "# load the summarization pipeline\n",
        "summarizer = pipeline(\"summarization\", model=\"t5-small\")\n",
        "\n",
        "# summarize the document text (you can summarize parts if the document is too large)\n",
        "summary = summarizer(document_text[:1000], max_length=150, min_length=30, do_sample=False)\n",
        "print(\"Summary:\", summary[0]['summary_text'])"
      ],
      "metadata": {
        "colab": {
          "base_uri": "https://localhost:8080/"
        },
        "id": "6OamFKvyOAA4",
        "outputId": "74915e93-2338-4cd2-dfb4-3cebb59a4028"
      },
      "execution_count": 3,
      "outputs": [
        {
          "output_type": "stream",
          "name": "stderr",
          "text": [
            "/usr/local/lib/python3.11/dist-packages/huggingface_hub/utils/_auth.py:94: UserWarning: \n",
            "The secret `HF_TOKEN` does not exist in your Colab secrets.\n",
            "To authenticate with the Hugging Face Hub, create a token in your settings tab (https://huggingface.co/settings/tokens), set it as secret in your Google Colab and restart your session.\n",
            "You will be able to reuse this secret in all of your notebooks.\n",
            "Please note that authentication is recommended but still optional to access public models or datasets.\n",
            "  warnings.warn(\n",
            "Device set to use cpu\n",
            "Both `max_new_tokens` (=256) and `max_length`(=150) seem to have been set. `max_new_tokens` will take precedence. Please refer to the documentation for more information. (https://huggingface.co/docs/transformers/main/en/main_classes/text_generation)\n"
          ]
        },
        {
          "output_type": "stream",
          "name": "stdout",
          "text": [
            "Summary: these Terms of Service reect the way Google’s business works, the laws that apply to our company, and certain things we’ve always believed to be true . these terms include: what you can expect from us, which describes how we provide and develop our services What we expect from you, which establishes certain rules for using our services Content in Google services .\n"
          ]
        }
      ]
    },
    {
      "cell_type": "code",
      "source": [
        "import nltk\n",
        "nltk.download('punkt_tab')\n",
        "from nltk.tokenize import sent_tokenize\n",
        "\n",
        "# split text into sentences\n",
        "sentences = sent_tokenize(document_text)\n",
        "\n",
        "# combine sentences into passages\n",
        "passages = []\n",
        "current_passage = \"\"\n",
        "for sentence in sentences:\n",
        "    if len(current_passage.split()) + len(sentence.split()) < 200:  # adjust the word limit as needed\n",
        "        current_passage += \" \" + sentence\n",
        "    else:\n",
        "        passages.append(current_passage.strip())\n",
        "        current_passage = sentence\n",
        "if current_passage:\n",
        "    passages.append(current_passage.strip())"
      ],
      "metadata": {
        "colab": {
          "base_uri": "https://localhost:8080/"
        },
        "id": "UWn7Gi5cODh2",
        "outputId": "bcbcd13d-77cf-47af-aeb1-dfbf404f83d8"
      },
      "execution_count": 4,
      "outputs": [
        {
          "output_type": "stream",
          "name": "stderr",
          "text": [
            "[nltk_data] Downloading package punkt_tab to /root/nltk_data...\n",
            "[nltk_data]   Package punkt_tab is already up-to-date!\n"
          ]
        }
      ]
    },
    {
      "cell_type": "code",
      "source": [
        "# load the question generation pipeline\n",
        "qg_pipeline = pipeline(\"text2text-generation\", model=\"valhalla/t5-base-qg-hl\")\n",
        "\n",
        "# function to generate questions using the pipeline\n",
        "def generate_questions_pipeline(passage, min_questions=3):\n",
        "    input_text = f\"generate questions: {passage}\"\n",
        "    results = qg_pipeline(input_text)\n",
        "    questions = results[0]['generated_text'].split('<sep>')\n",
        "\n",
        "    # ensure we have at least 3 questions\n",
        "    questions = [q.strip() for q in questions if q.strip()]\n",
        "\n",
        "    # if fewer than 3 questions, try to regenerate from smaller parts of the passage\n",
        "    if len(questions) < min_questions:\n",
        "        passage_sentences = passage.split('. ')\n",
        "        for i in range(len(passage_sentences)):\n",
        "            if len(questions) >= min_questions:\n",
        "                break\n",
        "            additional_input = ' '.join(passage_sentences[i:i+2])\n",
        "            additional_results = qg_pipeline(f\"generate questions: {additional_input}\")\n",
        "            additional_questions = additional_results[0]['generated_text'].split('<sep>')\n",
        "            questions.extend([q.strip() for q in additional_questions if q.strip()])\n",
        "\n",
        "    return questions[:min_questions]  # return only the top 3 questions\n",
        "\n",
        "# generate questions from passages\n",
        "for idx, passage in enumerate(passages[:5]):\n",
        "    questions = generate_questions_pipeline(passage)\n",
        "    print(f\"Passage {idx+1}:\\n{passage}\\n\")\n",
        "    print(\"Generated Questions:\")\n",
        "    for q in questions:\n",
        "        print(f\"- {q}\")\n",
        "    print(f\"\\n{'-'*50}\\n\")"
      ],
      "metadata": {
        "colab": {
          "base_uri": "https://localhost:8080/"
        },
        "id": "g8d0AVcKOMBP",
        "outputId": "35727669-e89a-4327-b78e-69c02d93c62a"
      },
      "execution_count": 5,
      "outputs": [
        {
          "output_type": "stream",
          "name": "stderr",
          "text": [
            "You are using the default legacy behaviour of the <class 'transformers.models.t5.tokenization_t5.T5Tokenizer'>. This is expected, and simply means that the `legacy` (previous) behavior will be used so nothing changes for you. If you want to use the new behaviour, set `legacy=False`. This should only be set if you understand what it means, and thoroughly read the reason why this was added as explained in https://github.com/huggingface/transformers/pull/24565\n",
            "Device set to use cpu\n"
          ]
        },
        {
          "output_type": "stream",
          "name": "stdout",
          "text": [
            "Passage 1:\n",
            "GOOGLE TERMS OF SERVICE\n",
            "Effective May 22, 2024 | Archived versions\n",
            "What’s covered in these terms\n",
            "We know it’s tempting to skip these Terms of\n",
            "Service, but it’s important to establish what you\n",
            "can expect from us as you use Google services,\n",
            "and what we expect from you. These Terms of Service re\u0000ect the way Google’s business works, the laws that apply to\n",
            "our company, and certain things we’ve always believed to be true. As a result, these Terms\n",
            "of Service help de\u0000ne Google’s relationship with you as you interact with our services. For\n",
            "example, these terms include the following topic headings:\n",
            "What you can expect from us, which describes how we provide and develop our\n",
            "services\n",
            "What we expect from you, which establishes certain rules for using our services\n",
            "Content in Google services, which describes the intellectual property rights to the\n",
            "content you \u0000nd in our services — whether that content belongs to you, Google, or\n",
            "others\n",
            "In case of problems or disagreements, which describes other legal rights you have,\n",
            "and what to expect in case someone violates these terms\n",
            "Understanding these terms is important because, by accessing or using our services,\n",
            "you’re agreeing to these terms.\n",
            "\n",
            "Generated Questions:\n",
            "- What does the Google Terms of Service cover?\n",
            "- What are the Google Terms of Service?\n",
            "- What are the Terms of Service?\n",
            "\n",
            "--------------------------------------------------\n",
            "\n",
            "Passage 2:\n",
            "Besides these terms, we also publish a Privacy Policy. Although it’s not part of these\n",
            "terms, we encourage you to read it to better understand how you can update, manage,\n",
            "export, and delete your information.Terms\n",
            "Service provider\n",
            "Google services are provided by, and you’re contracting with:\n",
            "Google LLC\n",
            "organized under the laws of the State of Delaware, USA, and operating under the laws of\n",
            "the USA\n",
            "1600 Amphitheatre Parkway\n",
            "Mountain View, California 94043\n",
            "USA\n",
            "Age requirements\n",
            "If you’re under the age required to manage your own Google Account, you must have\n",
            "your parent or legal guardian’s permission to use a Google Account. Please have your\n",
            "parent or legal guardian read these terms with you. If you’re a parent or legal guardian, and you allow your child to use the services, then\n",
            "these terms apply to you and you’re responsible for your child’s activity on the services. Some Google services have additional age requirements as described in their service-\n",
            "speci\u0000c additional terms and policies. Your relationship with GoogleThese terms help de\u0000ne the relationship between you and Google. When we speak of\n",
            "“Google,” “we,” “us,” and “our,” we mean Google LLC and its a\u0000liates, excluding any local\n",
            "entities based in India.\n",
            "\n",
            "Generated Questions:\n",
            "- What is the name of the company that provides Google services?\n",
            "- What does Google LLC do with your information?\n",
            "- What does Google LLC do with your information?\n",
            "\n",
            "--------------------------------------------------\n",
            "\n",
            "Passage 3:\n",
            "Broadly speaking, we give you permission to access and use our\n",
            "services if you agree to follow these terms, which re\u0000ect how Google’s business works\n",
            "and how we earn money. What you can expect from us\n",
            "Provide a broad range of useful services\n",
            "We provide a broad range of services that are subject to these terms, including:\n",
            "apps and sites (like Search and Maps)\n",
            "platforms (like Google Shopping)\n",
            "integrated services (like Maps embedded in other companies’ apps or sites)\n",
            "devices (like Google Nest and Pixel)\n",
            "Many of these services also include content that you can stream or interact with. Our services are designed to work together, making it easier for you to move from one\n",
            "activity to the next. For example, if your Calendar event includes an address, you can click\n",
            "on that address and Maps can show you how to get there. Develop, improve, and update Google services\n",
            "We’re constantly developing new technologies and features to improve our services. For\n",
            "example, we use arti\u0000cial intelligence and machine learning to provide you with\n",
            "simultaneous translations, and to better detect and block spam and malware.\n",
            "\n",
            "Generated Questions:\n",
            "- How does Google earn money?\n",
            "- What are some of the services that Google provides that are subject to these terms?\n",
            "- What services are designed to work together, making it easier for you to move from one activity to the next?\n",
            "\n",
            "--------------------------------------------------\n",
            "\n",
            "Passage 4:\n",
            "As part of\n",
            "this continual improvement, we sometimes add or remove features and functionalities,\n",
            "increase or decrease limits to our services, and start offering new services or stop offering\n",
            "old ones. When a service requires or includes downloadable or preloaded software, that\n",
            "software sometimes updates automatically on your device once a new version or feature\n",
            "is available. Some services let you adjust your automatic update settings.If we make material changes that negatively impact your use of our services or if we stop\n",
            "offering a service, we’ll provide you with reasonable advance notice, except in urgent\n",
            "situations such as preventing abuse, responding to legal requirements, or addressing\n",
            "security and operability issues. We’ll also provide you with an opportunity to export your\n",
            "content from your Google Account using Google Takeout, subject to applicable law and\n",
            "policies.\n",
            "\n",
            "Generated Questions:\n",
            "- What is one of the ways that Google improves its services?\n",
            "- What happens when a service requires or includes downloadable or preloaded software?\n",
            "- What happens when a service requires or includes downloadable or preloaded software?\n",
            "\n",
            "--------------------------------------------------\n",
            "\n",
            "Passage 5:\n",
            "What we expect from you\n",
            "Follow these terms and service-speci\u0000c additional terms\n",
            "The permission we give you to access and use our services continues as long as you\n",
            "comply with:\n",
            "these terms\n",
            "service-speci\u0000c additional terms, which could, for example, include things like\n",
            "additional age requirements\n",
            "We also make various policies, help centers, and other resources available to you to\n",
            "answer common questions and to set expectations about using our services. These\n",
            "resources include our Privacy Policy, Copyright Help Center, Safety Center, Transparency\n",
            "Center,and other pages accessible from our policies site. Finally, we may provide speci\u0000c\n",
            "instructions and warnings within our services – such as dialog boxes that alert you to\n",
            "important information. Although we give you permission to use our services, we retain any intellectual property\n",
            "rights we have in the services.\n",
            "\n",
            "Generated Questions:\n",
            "- What do we expect from you?\n",
            "- What are some of the additional terms that you may be required to comply with to access and use our services?\n",
            "- What resources are available from our policies site?\n",
            "\n",
            "--------------------------------------------------\n",
            "\n"
          ]
        }
      ]
    },
    {
      "cell_type": "code",
      "source": [
        "# load the QA pipeline\n",
        "from transformers import pipeline\n",
        "qa_pipeline = pipeline(\"question-answering\", model=\"deepset/roberta-base-squad2\")\n",
        "\n",
        "# function to track and answer only unique questions for first 5 passages\n",
        "def answer_unique_questions(passages, qa_pipeline):\n",
        "    answered_questions = set()  # to store unique questions\n",
        "\n",
        "    for idx, passage in enumerate(passages):\n",
        "        if idx >= 5:\n",
        "            break  # process only the first 5 passages\n",
        "\n",
        "        questions = generate_questions_pipeline(passage)\n",
        "\n",
        "        for question in questions:\n",
        "            if question not in answered_questions:  # check if the question has already been answered\n",
        "                answer = qa_pipeline({'question': question, 'context': passage})\n",
        "                print(f\"Q: {question}\")\n",
        "                print(f\"A: {answer['answer']}\\n\")\n",
        "                answered_questions.add(question)  # add the question to the set to avoid repetition\n",
        "\n",
        "        print(f\"{'='*50}\\n\")\n",
        "\n",
        "# Call the function\n",
        "answer_unique_questions(passages, qa_pipeline)\n"
      ],
      "metadata": {
        "colab": {
          "base_uri": "https://localhost:8080/"
        },
        "id": "SxKPpokdONQ9",
        "outputId": "d0d3676e-dc45-440d-ad50-c9a3a4b6ff86"
      },
      "execution_count": 8,
      "outputs": [
        {
          "output_type": "stream",
          "name": "stderr",
          "text": [
            "Device set to use cpu\n",
            "/usr/local/lib/python3.11/dist-packages/transformers/pipelines/question_answering.py:390: FutureWarning: Passing a list of SQuAD examples to the pipeline is deprecated and will be removed in v5. Inputs should be passed using the `question` and `context` keyword arguments instead.\n",
            "  warnings.warn(\n"
          ]
        },
        {
          "output_type": "stream",
          "name": "stdout",
          "text": [
            "Q: What does the Google Terms of Service cover?\n",
            "A: certain things we’ve always believed to be true\n",
            "\n",
            "Q: What are the Google Terms of Service?\n",
            "A: certain things we’ve always believed to be true\n",
            "\n",
            "Q: What are the Terms of Service?\n",
            "A: certain things we’ve always believed to be true\n",
            "\n",
            "==================================================\n",
            "\n",
            "Q: What is the name of the company that provides Google services?\n",
            "A: Google LLC\n",
            "\n",
            "Q: What does Google LLC do with your information?\n",
            "A: delete\n",
            "\n",
            "==================================================\n",
            "\n",
            "Q: How does Google earn money?\n",
            "A: how Google’s business works\n",
            "\n",
            "\n",
            "Q: What are some of the services that Google provides that are subject to these terms?\n",
            "A: apps and sites (like Search and Maps)\n",
            "\n",
            "Q: What services are designed to work together, making it easier for you to move from one activity to the next?\n",
            "A: Our services\n",
            "\n",
            "==================================================\n",
            "\n",
            "Q: What is one of the ways that Google improves its services?\n",
            "A: add or remove features and functionalities\n",
            "\n",
            "Q: What happens when a service requires or includes downloadable or preloaded software?\n",
            "A: updates automatically on your device\n",
            "\n",
            "==================================================\n",
            "\n",
            "Q: What do we expect from you?\n",
            "A: Follow these terms\n",
            "\n",
            "Q: What are some of the additional terms that you may be required to comply with to access and use our services?\n",
            "A: additional age requirements\n",
            "\n",
            "Q: What resources are available from our policies site?\n",
            "A: Privacy Policy, Copyright Help Center, Safety Center, Transparency\n",
            "Center\n",
            "\n",
            "==================================================\n",
            "\n"
          ]
        }
      ]
    },
    {
      "cell_type": "code",
      "source": [],
      "metadata": {
        "id": "8_fJd2hZRuom"
      },
      "execution_count": null,
      "outputs": []
    }
  ]
}